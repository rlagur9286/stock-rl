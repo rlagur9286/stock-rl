{
 "cells": [
  {
   "cell_type": "code",
   "execution_count": 1,
   "metadata": {},
   "outputs": [
    {
     "data": {
      "text/plain": [
       "200"
      ]
     },
     "execution_count": 1,
     "metadata": {},
     "output_type": "execute_result"
    }
   ],
   "source": [
    "import requests\n",
    "\n",
    "code = '035420'  # NAVER\n",
    "code = '006800'  # 미래에셋대우\n",
    "code = '005930'  # 삼성전자\n",
    "\n",
    "url = 'http://finance.naver.com/item/sise_day.nhn?code={code}'.format(code=code)\n",
    "res = requests.get(url)\n",
    "res.encoding = 'utf-8'\n",
    "res.status_code"
   ]
  },
  {
   "cell_type": "code",
   "execution_count": 2,
   "metadata": {},
   "outputs": [
    {
     "data": {
      "text/plain": [
       "421"
      ]
     },
     "execution_count": 2,
     "metadata": {},
     "output_type": "execute_result"
    }
   ],
   "source": [
    "from bs4 import BeautifulSoup\n",
    "soap = BeautifulSoup(res.text, 'lxml')\n",
    "el_table_navi = soap.find(\"table\", class_=\"Nnavi\")\n",
    "el_td_last = el_table_navi.find(\"td\", class_=\"pgRR\")\n",
    "pg_last = el_td_last.a.get('href').rsplit('&')[1]\n",
    "pg_last = pg_last.split('=')[1]\n",
    "pg_last = int(pg_last)\n",
    "pg_last"
   ]
  },
  {
   "cell_type": "code",
   "execution_count": 3,
   "metadata": {},
   "outputs": [],
   "source": [
    "import traceback\n",
    "import pandas as pd\n",
    "\n",
    "def parse_page(code, page):\n",
    "    try:\n",
    "        url = 'http://finance.naver.com/item/sise_day.nhn?code={code}&page={page}'.format(code=code, page=page)\n",
    "        res = requests.get(url)\n",
    "        _soap = BeautifulSoup(res.text, 'lxml')\n",
    "        _df = pd.read_html(str(_soap.find(\"table\")), header=0)[0]\n",
    "        _df = _df.dropna()\n",
    "        return _df\n",
    "    except Exception as e:\n",
    "        traceback.print_exc()\n",
    "    return None"
   ]
  },
  {
   "cell_type": "code",
   "execution_count": 4,
   "metadata": {},
   "outputs": [
    {
     "data": {
      "text/html": [
       "<div>\n",
       "<style scoped>\n",
       "    .dataframe tbody tr th:only-of-type {\n",
       "        vertical-align: middle;\n",
       "    }\n",
       "\n",
       "    .dataframe tbody tr th {\n",
       "        vertical-align: top;\n",
       "    }\n",
       "\n",
       "    .dataframe thead th {\n",
       "        text-align: right;\n",
       "    }\n",
       "</style>\n",
       "<table border=\"1\" class=\"dataframe\">\n",
       "  <thead>\n",
       "    <tr style=\"text-align: right;\">\n",
       "      <th></th>\n",
       "      <th>날짜</th>\n",
       "      <th>종가</th>\n",
       "      <th>전일비</th>\n",
       "      <th>시가</th>\n",
       "      <th>고가</th>\n",
       "      <th>저가</th>\n",
       "      <th>거래량</th>\n",
       "    </tr>\n",
       "  </thead>\n",
       "  <tbody>\n",
       "    <tr>\n",
       "      <th>1</th>\n",
       "      <td>2019.11.04</td>\n",
       "      <td>164500.0</td>\n",
       "      <td>2500.0</td>\n",
       "      <td>165500.0</td>\n",
       "      <td>167000.0</td>\n",
       "      <td>162000.0</td>\n",
       "      <td>451988.0</td>\n",
       "    </tr>\n",
       "    <tr>\n",
       "      <th>2</th>\n",
       "      <td>2019.11.01</td>\n",
       "      <td>167000.0</td>\n",
       "      <td>3000.0</td>\n",
       "      <td>166000.0</td>\n",
       "      <td>168500.0</td>\n",
       "      <td>164000.0</td>\n",
       "      <td>720358.0</td>\n",
       "    </tr>\n",
       "    <tr>\n",
       "      <th>3</th>\n",
       "      <td>2019.10.31</td>\n",
       "      <td>164000.0</td>\n",
       "      <td>9500.0</td>\n",
       "      <td>159000.0</td>\n",
       "      <td>167000.0</td>\n",
       "      <td>157500.0</td>\n",
       "      <td>1409619.0</td>\n",
       "    </tr>\n",
       "    <tr>\n",
       "      <th>4</th>\n",
       "      <td>2019.10.30</td>\n",
       "      <td>154500.0</td>\n",
       "      <td>1500.0</td>\n",
       "      <td>152000.0</td>\n",
       "      <td>154500.0</td>\n",
       "      <td>151500.0</td>\n",
       "      <td>290658.0</td>\n",
       "    </tr>\n",
       "    <tr>\n",
       "      <th>5</th>\n",
       "      <td>2019.10.29</td>\n",
       "      <td>153000.0</td>\n",
       "      <td>4000.0</td>\n",
       "      <td>157500.0</td>\n",
       "      <td>158000.0</td>\n",
       "      <td>152000.0</td>\n",
       "      <td>321007.0</td>\n",
       "    </tr>\n",
       "    <tr>\n",
       "      <th>9</th>\n",
       "      <td>2019.10.28</td>\n",
       "      <td>157000.0</td>\n",
       "      <td>4500.0</td>\n",
       "      <td>152500.0</td>\n",
       "      <td>158000.0</td>\n",
       "      <td>152500.0</td>\n",
       "      <td>335238.0</td>\n",
       "    </tr>\n",
       "    <tr>\n",
       "      <th>10</th>\n",
       "      <td>2019.10.25</td>\n",
       "      <td>152500.0</td>\n",
       "      <td>500.0</td>\n",
       "      <td>151000.0</td>\n",
       "      <td>153500.0</td>\n",
       "      <td>151000.0</td>\n",
       "      <td>162510.0</td>\n",
       "    </tr>\n",
       "    <tr>\n",
       "      <th>11</th>\n",
       "      <td>2019.10.24</td>\n",
       "      <td>153000.0</td>\n",
       "      <td>500.0</td>\n",
       "      <td>151500.0</td>\n",
       "      <td>153000.0</td>\n",
       "      <td>150500.0</td>\n",
       "      <td>224666.0</td>\n",
       "    </tr>\n",
       "    <tr>\n",
       "      <th>12</th>\n",
       "      <td>2019.10.23</td>\n",
       "      <td>152500.0</td>\n",
       "      <td>1500.0</td>\n",
       "      <td>152000.0</td>\n",
       "      <td>153500.0</td>\n",
       "      <td>151500.0</td>\n",
       "      <td>226744.0</td>\n",
       "    </tr>\n",
       "    <tr>\n",
       "      <th>13</th>\n",
       "      <td>2019.10.22</td>\n",
       "      <td>154000.0</td>\n",
       "      <td>2000.0</td>\n",
       "      <td>150500.0</td>\n",
       "      <td>154500.0</td>\n",
       "      <td>150500.0</td>\n",
       "      <td>360102.0</td>\n",
       "    </tr>\n",
       "  </tbody>\n",
       "</table>\n",
       "</div>"
      ],
      "text/plain": [
       "            날짜        종가     전일비        시가        고가        저가        거래량\n",
       "1   2019.11.04  164500.0  2500.0  165500.0  167000.0  162000.0   451988.0\n",
       "2   2019.11.01  167000.0  3000.0  166000.0  168500.0  164000.0   720358.0\n",
       "3   2019.10.31  164000.0  9500.0  159000.0  167000.0  157500.0  1409619.0\n",
       "4   2019.10.30  154500.0  1500.0  152000.0  154500.0  151500.0   290658.0\n",
       "5   2019.10.29  153000.0  4000.0  157500.0  158000.0  152000.0   321007.0\n",
       "9   2019.10.28  157000.0  4500.0  152500.0  158000.0  152500.0   335238.0\n",
       "10  2019.10.25  152500.0   500.0  151000.0  153500.0  151000.0   162510.0\n",
       "11  2019.10.24  153000.0   500.0  151500.0  153000.0  150500.0   224666.0\n",
       "12  2019.10.23  152500.0  1500.0  152000.0  153500.0  151500.0   226744.0\n",
       "13  2019.10.22  154000.0  2000.0  150500.0  154500.0  150500.0   360102.0"
      ]
     },
     "execution_count": 4,
     "metadata": {},
     "output_type": "execute_result"
    }
   ],
   "source": [
    "parse_page(code, 1)"
   ]
  },
  {
   "cell_type": "code",
   "execution_count": 5,
   "metadata": {},
   "outputs": [
    {
     "data": {
      "text/plain": [
       "'2018.01.01'"
      ]
     },
     "execution_count": 5,
     "metadata": {},
     "output_type": "execute_result"
    }
   ],
   "source": [
    "import datetime\n",
    "str_datefrom = datetime.datetime.strftime(datetime.datetime(year=2018, month=1, day=1), '%Y.%m.%d')\n",
    "str_datefrom"
   ]
  },
  {
   "cell_type": "code",
   "execution_count": 6,
   "metadata": {},
   "outputs": [
    {
     "data": {
      "text/plain": [
       "'2019.11.04'"
      ]
     },
     "execution_count": 6,
     "metadata": {},
     "output_type": "execute_result"
    }
   ],
   "source": [
    "str_dateto = datetime.datetime.strftime(datetime.datetime.today(), '%Y.%m.%d')\n",
    "str_dateto"
   ]
  },
  {
   "cell_type": "code",
   "execution_count": 9,
   "metadata": {},
   "outputs": [],
   "source": [
    "df = None\n",
    "for page in range(1, pg_last+1):\n",
    "    _df = parse_page(code, page)\n",
    "    _df_filtered = _df[_df['날짜'] > str_datefrom]\n",
    "    if df is None:\n",
    "        df = _df_filtered\n",
    "    else:\n",
    "        df = pd.concat([df, _df_filtered])\n",
    "    if len(_df) > len(_df_filtered):\n",
    "        break"
   ]
  },
  {
   "cell_type": "code",
   "execution_count": 10,
   "metadata": {},
   "outputs": [
    {
     "data": {
      "text/html": [
       "<div>\n",
       "<style scoped>\n",
       "    .dataframe tbody tr th:only-of-type {\n",
       "        vertical-align: middle;\n",
       "    }\n",
       "\n",
       "    .dataframe tbody tr th {\n",
       "        vertical-align: top;\n",
       "    }\n",
       "\n",
       "    .dataframe thead th {\n",
       "        text-align: right;\n",
       "    }\n",
       "</style>\n",
       "<table border=\"1\" class=\"dataframe\">\n",
       "  <thead>\n",
       "    <tr style=\"text-align: right;\">\n",
       "      <th></th>\n",
       "      <th>날짜</th>\n",
       "      <th>종가</th>\n",
       "      <th>전일비</th>\n",
       "      <th>시가</th>\n",
       "      <th>고가</th>\n",
       "      <th>저가</th>\n",
       "      <th>거래량</th>\n",
       "    </tr>\n",
       "  </thead>\n",
       "  <tbody>\n",
       "    <tr>\n",
       "      <th>10</th>\n",
       "      <td>2018.01.08</td>\n",
       "      <td>950000.0</td>\n",
       "      <td>42000.0</td>\n",
       "      <td>915000.0</td>\n",
       "      <td>953000.0</td>\n",
       "      <td>908000.0</td>\n",
       "      <td>196338.0</td>\n",
       "    </tr>\n",
       "    <tr>\n",
       "      <th>11</th>\n",
       "      <td>2018.01.05</td>\n",
       "      <td>908000.0</td>\n",
       "      <td>15000.0</td>\n",
       "      <td>893000.0</td>\n",
       "      <td>918000.0</td>\n",
       "      <td>880000.0</td>\n",
       "      <td>136811.0</td>\n",
       "    </tr>\n",
       "    <tr>\n",
       "      <th>12</th>\n",
       "      <td>2018.01.04</td>\n",
       "      <td>893000.0</td>\n",
       "      <td>22000.0</td>\n",
       "      <td>879000.0</td>\n",
       "      <td>897000.0</td>\n",
       "      <td>873000.0</td>\n",
       "      <td>130112.0</td>\n",
       "    </tr>\n",
       "    <tr>\n",
       "      <th>13</th>\n",
       "      <td>2018.01.03</td>\n",
       "      <td>871000.0</td>\n",
       "      <td>14000.0</td>\n",
       "      <td>876000.0</td>\n",
       "      <td>884000.0</td>\n",
       "      <td>864000.0</td>\n",
       "      <td>84790.0</td>\n",
       "    </tr>\n",
       "    <tr>\n",
       "      <th>1</th>\n",
       "      <td>2018.01.02</td>\n",
       "      <td>885000.0</td>\n",
       "      <td>15000.0</td>\n",
       "      <td>871000.0</td>\n",
       "      <td>885000.0</td>\n",
       "      <td>870000.0</td>\n",
       "      <td>93587.0</td>\n",
       "    </tr>\n",
       "  </tbody>\n",
       "</table>\n",
       "</div>"
      ],
      "text/plain": [
       "            날짜        종가      전일비        시가        고가        저가       거래량\n",
       "10  2018.01.08  950000.0  42000.0  915000.0  953000.0  908000.0  196338.0\n",
       "11  2018.01.05  908000.0  15000.0  893000.0  918000.0  880000.0  136811.0\n",
       "12  2018.01.04  893000.0  22000.0  879000.0  897000.0  873000.0  130112.0\n",
       "13  2018.01.03  871000.0  14000.0  876000.0  884000.0  864000.0   84790.0\n",
       "1   2018.01.02  885000.0  15000.0  871000.0  885000.0  870000.0   93587.0"
      ]
     },
     "execution_count": 10,
     "metadata": {},
     "output_type": "execute_result"
    }
   ],
   "source": [
    "df.tail()"
   ]
  },
  {
   "cell_type": "code",
   "execution_count": 11,
   "metadata": {},
   "outputs": [
    {
     "data": {
      "text/plain": [
       "'data/2019-11-04-crawling\\\\035420_2018.01.01_2019.11.04.csv'"
      ]
     },
     "execution_count": 11,
     "metadata": {},
     "output_type": "execute_result"
    }
   ],
   "source": [
    "import os\n",
    "path_dir = 'data/2019-11-04-crawling'\n",
    "if not os.path.exists(path_dir):\n",
    "    os.makedirs(path_dir)\n",
    "path = os.path.join(path_dir, '{code}_{date_from}_{date_to}.csv'.format(code=code, date_from=str_datefrom, date_to=str_dateto))\n",
    "path"
   ]
  },
  {
   "cell_type": "code",
   "execution_count": 12,
   "metadata": {},
   "outputs": [],
   "source": [
    "df.to_csv(path, index=False)"
   ]
  },
  {
   "cell_type": "code",
   "execution_count": null,
   "metadata": {},
   "outputs": [],
   "source": []
  }
 ],
 "metadata": {
  "kernelspec": {
   "display_name": "Python 3",
   "language": "python",
   "name": "python3"
  },
  "language_info": {
   "codemirror_mode": {
    "name": "ipython",
    "version": 3
   },
   "file_extension": ".py",
   "mimetype": "text/x-python",
   "name": "python",
   "nbconvert_exporter": "python",
   "pygments_lexer": "ipython3",
   "version": "3.6.9"
  }
 },
 "nbformat": 4,
 "nbformat_minor": 4
}
